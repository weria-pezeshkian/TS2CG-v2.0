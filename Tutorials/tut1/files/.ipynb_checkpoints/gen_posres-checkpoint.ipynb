{
 "cells": [
  {
   "cell_type": "code",
   "execution_count": null,
   "id": "66b39d09-a85f-4cea-9782-77129780b3f1",
   "metadata": {},
   "outputs": [],
   "source": []
  },
  {
   "cell_type": "code",
   "execution_count": 2,
   "id": "4bc80bb9-75bc-4012-a373-37fd5608c39b",
   "metadata": {},
   "outputs": [],
   "source": [
    "# import numpy as np\n",
    "# import os\n",
    "# import MDAnalysis as mda\n",
    "\n",
    "# os.chdir('/Users/nedanbi/Desktop/NBI_22_09_2022/TS2CG/tut1/files/run')\n",
    "\n",
    "# # all the lipid tails collapsed in the vesicle center\n",
    "# u = mda.Universe(\"SOL.gro\")\n",
    "# cog = u.atoms.center_of_geometry()\n",
    "# popc_atoms = u.select_atoms(\"resname POPC\")\n",
    "# popc_atoms.positions = cog\n",
    "# with mda.Writer('ref_pos.pdb', n_atoms=u.atoms.n_atoms) as w:\n",
    "#     w.write(u)\n",
    "# # u.atoms.write(\"ref_pos.gro\", reindex=False)"
   ]
  },
  {
   "cell_type": "code",
   "execution_count": 5,
   "id": "e09cc9dd-f854-4321-a50c-6eb0da2c1cd1",
   "metadata": {},
   "outputs": [],
   "source": [
    "import os\n",
    "os.chdir(\"/Users/nedanbi/Desktop/NBI_22_09_2022/TS2CG_new/tut11-small\")"
   ]
  },
  {
   "cell_type": "code",
   "execution_count": 6,
   "id": "f58609e7-bed7-4b70-be9b-7dcc8f845edc",
   "metadata": {},
   "outputs": [],
   "source": [
    "import MDAnalysis as mda\n",
    "\n",
    "# Load the structure file\n",
    "u = mda.Universe(\"SOL.gro\")  # Replace with your actual structure file\n",
    "\n",
    "# Select all non-water atoms (lipids and proteins)\n",
    "non_water_atoms = u.select_atoms(\"not resname W\")\n",
    "\n",
    "# Calculate the center of geometry of the vesicle (excluding water atoms)\n",
    "cog = non_water_atoms.center_of_geometry()\n",
    "\n",
    "# Select only the atoms that belong to the vesicle (lipids and proteins)\n",
    "vesicle_atoms = u.select_atoms(\"not resname W\")\n",
    "\n",
    "# Move all vesicle atoms to the center of the vesicle\n",
    "vesicle_atoms.positions = cog\n",
    "\n",
    "# Write the modified structure to a new file\n",
    "with mda.Writer(\"ref_pos.pdb\", n_atoms=u.atoms.n_atoms) as w:\n",
    "    w.write(u)\n",
    "\n",
    "# Uncomment below if you also want to save in GRO format\n",
    "# u.atoms.write(\"centered_vesicle.gro\", reindex=False)\n"
   ]
  },
  {
   "cell_type": "code",
   "execution_count": null,
   "id": "aa98dcb8-753d-43c0-b3eb-69f1a192f5cb",
   "metadata": {},
   "outputs": [],
   "source": [
    "\n",
    "\n",
    "u = mda.Universe(input)\n",
    "cog = u.atoms.center_of_geometry()\n",
    "u.atoms.positions = cog\n",
    "u.atoms.write(output, reindex=False)\n"
   ]
  }
 ],
 "metadata": {
  "kernelspec": {
   "display_name": "Python 3 (ipykernel)",
   "language": "python",
   "name": "python3"
  },
  "language_info": {
   "codemirror_mode": {
    "name": "ipython",
    "version": 3
   },
   "file_extension": ".py",
   "mimetype": "text/x-python",
   "name": "python",
   "nbconvert_exporter": "python",
   "pygments_lexer": "ipython3",
   "version": "3.12.4"
  }
 },
 "nbformat": 4,
 "nbformat_minor": 5
}
