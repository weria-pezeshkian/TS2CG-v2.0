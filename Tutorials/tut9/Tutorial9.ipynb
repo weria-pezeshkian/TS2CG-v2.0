{
 "cells": [
  {
   "cell_type": "markdown",
   "id": "8dd86736-fda5-4c29-8c88-48bd30e293cb",
   "metadata": {},
   "source": [
    "This is the notebook for Tutorial 9 of TS2CG. In this tutorial, we will use the base features of the point class in python, which modifies the point folder created by PLM. After each modification, we can update the point folder and run PCG to obstain a structure.\n",
    "\n",
    "We will read in a membrane, explore the different methods to access different parts of the folder, and modify some inclusions, exclusions and domains."
   ]
  },
  {
   "cell_type": "code",
   "execution_count": 1,
   "id": "8cfed44a-6795-415b-8b75-88b62b6511b5",
   "metadata": {},
   "outputs": [],
   "source": [
    "#We do some imports to help us with our different steps below:\n",
    "import numpy as np\n",
    "import matplotlib.pyplot as plt\n",
    "\n",
    "#And we load TS2CG to get access to the framework\n",
    "import TS2CG"
   ]
  },
  {
   "cell_type": "markdown",
   "id": "b415ab5e-ed86-4462-a6e0-d510a2bb5b4c",
   "metadata": {},
   "source": [
    "For this first part of the tutorial, we will start with the point folder created in Tutorial 4. The folder contains a round bilayer vesicle and three protein inclusions of two different types."
   ]
  },
  {
   "cell_type": "code",
   "execution_count": 2,
   "id": "ac2414eb-04e2-4509-b3e3-61f7674110ea",
   "metadata": {},
   "outputs": [],
   "source": [
    "point=TS2CG.core.point.Point(\"./point_tut4_start\")"
   ]
  },
  {
   "cell_type": "markdown",
   "id": "29e6a393-cd74-46bb-b29c-4f829de08179",
   "metadata": {},
   "source": [
    "We are given a warning here. Luckily, this is nothing to worry about, as it just informs us that one of our input files is empty. Something we can easily check and confirm, if we want it that way. In our case point_tutorial4/ExcData.dat does not contain any exclusions, which is acceptable. It does, however, contain Inclusions. In this next step, we will add some more."
   ]
  },
  {
   "cell_type": "code",
   "execution_count": 3,
   "id": "fbf9e57e-54f8-46bd-b47c-356ed867a849",
   "metadata": {},
   "outputs": [
    {
     "data": {
      "text/plain": [
       "[{'id': 0,\n",
       "  'type_id': 1,\n",
       "  'point_id': 5,\n",
       "  'orientation': array([ 0.499, -0.864,  0.059])},\n",
       " {'id': 1,\n",
       "  'type_id': 1,\n",
       "  'point_id': 22,\n",
       "  'orientation': array([ 0.481, -0.765, -0.429])},\n",
       " {'id': 2,\n",
       "  'type_id': 2,\n",
       "  'point_id': 30,\n",
       "  'orientation': array([-0.177, -0.945,  0.275])}]"
      ]
     },
     "execution_count": 3,
     "metadata": {},
     "output_type": "execute_result"
    }
   ],
   "source": [
    "#First, let's look at the inclusions we got.\n",
    "point.inclusions.get_all()\n",
    "# We see a dictionary of all the inclusions, their id, their type and their location on the point grid as the point id."
   ]
  },
  {
   "cell_type": "code",
   "execution_count": 4,
   "id": "281346a7-ed08-448e-addc-f6aa71ba72e3",
   "metadata": {},
   "outputs": [
    {
     "data": {
      "text/plain": [
       "[{'id': 2,\n",
       "  'type_id': 2,\n",
       "  'point_id': 30,\n",
       "  'orientation': array([-0.177, -0.945,  0.275])},\n",
       " {'id': 3, 'type_id': 2, 'point_id': 17, 'orientation': array([1., 0., 0.])}]"
      ]
     },
     "execution_count": 4,
     "metadata": {},
     "output_type": "execute_result"
    }
   ],
   "source": [
    "#Now we add another protein of type 2.\n",
    "point.inclusions.add_protein(type_id=2,point_id=17)\n",
    "# We can also set the orientation, but now it will default to [1,0,0].\n",
    "# Let's look at our inclusions list, but restrain ourselves to proteins of type 2.\n",
    "point.inclusions.get_by_type(2)"
   ]
  },
  {
   "cell_type": "code",
   "execution_count": 5,
   "id": "bc75078f-2ffc-4a72-8249-051effcdb12d",
   "metadata": {},
   "outputs": [
    {
     "name": "stdout",
     "output_type": "stream",
     "text": [
      "\n",
      "███████████████████████████████████████████████████████████████  \n",
      "                      CG Membrane builder              \n",
      "                         Version:  1.2  \n",
      "███████████████████████████████████████████████████████████████  \n",
      "---> attempting to obtain point data \n",
      "--> inclusion file is provided, we will generate proteins according to this file \n",
      "---> point data has been obtained \n",
      "---> attempting to generate molecule type \n",
      "---> generating molecule types from  input.str  file\n",
      "--> Note: the lipids will be generated from < Martini Map CG> Lipid Library, of version:  Martini 3\n",
      "--> This library contains 125 lipid types \n",
      "---> molecule types have been generated \n",
      "---> reading protein information from the str file \n",
      "\n",
      "          |------------------------------------------------------------|\n",
      "          |     Protein List and ID have been read from the input file |\n",
      "          |------------------------------------------------------------| \n",
      "          |        inclusion with id 1 is mapped to ------> protein1\n",
      "          |        inclusion with id 2 is mapped to ------> protein2\n",
      "          |------------------------------------------------------------| \n",
      "\n",
      "---> protein information in the str file, lib/gro files and inclusion info matches well \n",
      "---> proteins are placed, now we remove points that are close to the proteins \n",
      "---> generating domains using the input files \n",
      "---> warning: there is a domain defined with domain id of 1 while no point with this domain exist \n",
      "---> note: this could has happened because some points are covered my protein or exclusions! \n",
      "---> warning: there is a domain defined with domain id of 1 while no point with this domain exist \n",
      "---> note: this could has happened because some points are covered my protein or exclusions! \n",
      "---> checking if the domain ids in str file covers all in the point files \n",
      "---> domain ids are all good \n",
      "---> now,  the domain info will be used to place lipids \n",
      "expected time:  ████\n",
      "remaining time: ████\n",
      "        |--------------------------------------------------| \n",
      "        |        Information on the Generated Lipids       |\n",
      "        |--------------------------------------------------| \n",
      "        | -> For domain with ID 0 \n",
      "        |   -> PCG created 6131  molecules of POPC \n",
      "        |     In the upper monolayer \n",
      "        |     \n",
      "        | -> For domain with ID 0 \n",
      "        |   -> PCG created 3758  molecules of POPC \n",
      "        |     In the lower monolayer \n",
      "        |     \n",
      "        | -> For domain with ID 1 \n",
      "        |   -> PCG created 0  molecules of POPE \n",
      "        |     In the upper monolayer \n",
      "        |     \n",
      "        | -> For domain with ID 1 \n",
      "        |   -> PCG created 0  molecules of POPE \n",
      "        |     In the lower monolayer \n",
      "        |     \n",
      "        |-------------------------------------------------- \n",
      "---> attempting to make the wall beads \n",
      "---> attempting to write the final gro file \n",
      "---> attempting to write the final topology file \n",
      " ██████████████████████████████████████████████████████████████  \n",
      " █████████  Seems everything went well. Well done! ████████████  \n",
      " ██████████████████████████████████████████████████████████████  \n",
      "\n"
     ]
    }
   ],
   "source": [
    "#Now we overwrite the point folder with our altered version.\n",
    "point.save()\n",
    "#Let's run PCG and look at the new inclusion.\n",
    "!TS2CG PCG -str input.str -Bondlength 0.2 -LLIB Martini3.LIB -defout system -dts point_tut4_start"
   ]
  },
  {
   "cell_type": "markdown",
   "id": "ffcee086-5e43-47e3-8d5d-a1e20d6c1f83",
   "metadata": {},
   "source": [
    "As we can see, we have added another protein of type 2 to our vesicle.\n",
    "\n",
    "![Image 1](1.png)\n",
    "\n",
    "But, similarly to tutorial 4, lipids are in the transport protein, which was fixed via exclusions in the earlier tutorial. Let's add exclusions here as well."
   ]
  },
  {
   "cell_type": "code",
   "execution_count": 6,
   "id": "e0153c7d-5eea-49f8-9e78-4fd2f0343ca9",
   "metadata": {},
   "outputs": [],
   "source": [
    "#Let's look at the existing exclusions.\n",
    "point.exclusions.get_all()\n",
    "#No exclusions found. Let's loop through our proteins of type 2 and add exclusions in the exact same location. We need the point ID as a list:\n",
    "exclusion_locations=[d[\"point_id\"] for d in point.inclusions.get_by_type(2)]\n",
    "for id in exclusion_locations:\n",
    "    point.exclusions.add_pore(point_id=id,radius=1.0)\n",
    "\n",
    "#See, if it populated the exclusions, and save the folder a long the way for visualization\n",
    "point.exclusions.get_all()\n",
    "point.save()"
   ]
  },
  {
   "cell_type": "code",
   "execution_count": 7,
   "id": "edfcec37-0069-4ceb-9ead-a02eec1b1448",
   "metadata": {},
   "outputs": [
    {
     "data": {
      "text/plain": [
       "[{'id': 0, 'point_id': 30, 'radius': 1.0},\n",
       " {'id': 1, 'point_id': 17, 'radius': 1.0}]"
      ]
     },
     "execution_count": 7,
     "metadata": {},
     "output_type": "execute_result"
    }
   ],
   "source": [
    "point.exclusions.get_all()"
   ]
  },
  {
   "cell_type": "code",
   "execution_count": 8,
   "id": "be14cc82-586e-4d40-bf66-3bf5cb7a9afa",
   "metadata": {},
   "outputs": [
    {
     "name": "stdout",
     "output_type": "stream",
     "text": [
      "\n",
      "███████████████████████████████████████████████████████████████  \n",
      "                      CG Membrane builder              \n",
      "                         Version:  1.2  \n",
      "███████████████████████████████████████████████████████████████  \n",
      "---> attempting to obtain point data \n",
      "--> inclusion file is provided, we will generate proteins according to this file \n",
      "--> exclusion file is provided, meaning the system contains pores \n",
      " Note: we are excluding points based on exclusion, If it is slow, contact the developer \n",
      "---> point data has been obtained \n",
      "---> attempting to generate molecule type \n",
      "---> generating molecule types from  input.str  file\n",
      "--> Note: the lipids will be generated from < Martini Map CG> Lipid Library, of version:  Martini 3\n",
      "--> This library contains 125 lipid types \n",
      "---> molecule types have been generated \n",
      " Note: we are excluding points based on exclusion, If it is slow, contact the developer \n",
      "---> reading protein information from the str file \n",
      "\n",
      "          |------------------------------------------------------------|\n",
      "          |     Protein List and ID have been read from the input file |\n",
      "          |------------------------------------------------------------| \n",
      "          |        inclusion with id 1 is mapped to ------> protein1\n",
      "          |        inclusion with id 2 is mapped to ------> protein2\n",
      "          |------------------------------------------------------------| \n",
      "\n",
      "---> protein information in the str file, lib/gro files and inclusion info matches well \n",
      "---> proteins are placed, now we remove points that are close to the proteins \n",
      "---> generating domains using the input files \n",
      "---> warning: there is a domain defined with domain id of 1 while no point with this domain exist \n",
      "---> note: this could has happened because some points are covered my protein or exclusions! \n",
      "---> warning: there is a domain defined with domain id of 1 while no point with this domain exist \n",
      "---> note: this could has happened because some points are covered my protein or exclusions! \n",
      "---> checking if the domain ids in str file covers all in the point files \n",
      "---> domain ids are all good \n",
      "---> now,  the domain info will be used to place lipids \n",
      "expected time:  ████\n",
      "remaining time: ████\n",
      "        |--------------------------------------------------| \n",
      "        |        Information on the Generated Lipids       |\n",
      "        |--------------------------------------------------| \n",
      "        | -> For domain with ID 0 \n",
      "        |   -> PCG created 6124  molecules of POPC \n",
      "        |     In the upper monolayer \n",
      "        |     \n",
      "        | -> For domain with ID 0 \n",
      "        |   -> PCG created 3756  molecules of POPC \n",
      "        |     In the lower monolayer \n",
      "        |     \n",
      "        | -> For domain with ID 1 \n",
      "        |   -> PCG created 0  molecules of POPE \n",
      "        |     In the upper monolayer \n",
      "        |     \n",
      "        | -> For domain with ID 1 \n",
      "        |   -> PCG created 0  molecules of POPE \n",
      "        |     In the lower monolayer \n",
      "        |     \n",
      "        |-------------------------------------------------- \n",
      "---> attempting to make the wall beads \n",
      "---> attempting to write the final gro file \n",
      "---> attempting to write the final topology file \n",
      " ██████████████████████████████████████████████████████████████  \n",
      " █████████  Seems everything went well. Well done! ████████████  \n",
      " ██████████████████████████████████████████████████████████████  \n",
      "\n"
     ]
    }
   ],
   "source": [
    "!TS2CG PCG -str input.str -Bondlength 0.2 -LLIB Martini3.LIB -defout system -dts point_tut4_start"
   ]
  },
  {
   "cell_type": "markdown",
   "id": "5594e5e9-a871-49e4-8d76-614b7f7f2c73",
   "metadata": {},
   "source": [
    "We have successfully removed the lipids from inside the protein by overlaying the exclusions.\n",
    "\n",
    "![Image 2](2.png)\n",
    "\n",
    "Now, let's add a secondary domain, somewhere.\n",
    "\n",
    "We will want to add some POPE lipids in a weighted randomized fashion. While this might not be particularly physical, it will serve the tutorial. We will consider each point and might change the domain to 1, the standard domain is 0. For each point, we will consider the distance to the north pole. The closer to the north pole, the more likely a different domain will be assigned."
   ]
  },
  {
   "cell_type": "code",
   "execution_count": 9,
   "id": "98d00a64-6c78-48cf-b735-8f88a66dfa6f",
   "metadata": {},
   "outputs": [],
   "source": [
    "# We start by looping over the point and finding the north pole. The north pole will be where the z value is maximum.\n",
    "id_with_maximum_z=np.argmax(point.outer.coordinates[:,2])\n",
    "id_with_minimum_z=np.argmin(point.outer.coordinates[:,2])\n",
    "maximum_distance=np.linalg.norm(point.outer.coordinates[id_with_maximum_z]-point.outer.coordinates[id_with_minimum_z])\n",
    "\n",
    "for i,Entry in enumerate(point.outer.coordinates):\n",
    "    distance=np.linalg.norm(Entry-point.outer.coordinates[id_with_maximum_z])\n",
    "    probability = max(0, .8 - distance / maximum_distance) #The maximum chance of a POPE domain is 80%, decreasing to 0% at the south pole\n",
    "    if np.random.rand()<probability:\n",
    "        point.outer.domain_ids[i]=1\n",
    "\n",
    "point.save()"
   ]
  },
  {
   "cell_type": "markdown",
   "id": "1d7afdbd-d27b-4d89-871e-3afa911e49f7",
   "metadata": {},
   "source": [
    "In order to receive a output from PCG, we need to update the input.str and tell PCG about the new lipid we want in domain 1. This has been done in input_POPE.str So we can run PCG by just refering to the altered str."
   ]
  },
  {
   "cell_type": "code",
   "execution_count": 10,
   "id": "4c55e232-7adc-489a-8c8e-ca567e201a13",
   "metadata": {},
   "outputs": [
    {
     "name": "stdout",
     "output_type": "stream",
     "text": [
      "\n",
      "███████████████████████████████████████████████████████████████  \n",
      "                      CG Membrane builder              \n",
      "                         Version:  1.2  \n",
      "███████████████████████████████████████████████████████████████  \n",
      "---> attempting to obtain point data \n",
      "--> inclusion file is provided, we will generate proteins according to this file \n",
      "--> exclusion file is provided, meaning the system contains pores \n",
      " Note: we are excluding points based on exclusion, If it is slow, contact the developer \n",
      "---> point data has been obtained \n",
      "---> attempting to generate molecule type \n",
      "---> generating molecule types from  input_POPE.str  file\n",
      "--> Note: the lipids will be generated from < Martini Map CG> Lipid Library, of version:  Martini 3\n",
      "--> This library contains 125 lipid types \n",
      "---> molecule types have been generated \n",
      " Note: we are excluding points based on exclusion, If it is slow, contact the developer \n",
      "---> reading protein information from the str file \n",
      "\n",
      "          |------------------------------------------------------------|\n",
      "          |     Protein List and ID have been read from the input file |\n",
      "          |------------------------------------------------------------| \n",
      "          |        inclusion with id 1 is mapped to ------> protein1\n",
      "          |        inclusion with id 2 is mapped to ------> protein2\n",
      "          |------------------------------------------------------------| \n",
      "\n",
      "---> protein information in the str file, lib/gro files and inclusion info matches well \n",
      "---> proteins are placed, now we remove points that are close to the proteins \n",
      "---> generating domains using the input files \n",
      "---> checking if the domain ids in str file covers all in the point files \n",
      "---> domain ids are all good \n",
      "---> now,  the domain info will be used to place lipids \n",
      "expected time:  ████\n",
      "remaining time: ████\n",
      "        |--------------------------------------------------| \n",
      "        |        Information on the Generated Lipids       |\n",
      "        |--------------------------------------------------| \n",
      "        | -> For domain with ID 0 \n",
      "        |   -> PCG created 5093  molecules of POPC \n",
      "        |     In the upper monolayer \n",
      "        |     \n",
      "        | -> For domain with ID 0 \n",
      "        |   -> PCG created 3756  molecules of POPC \n",
      "        |     In the lower monolayer \n",
      "        |     \n",
      "        | -> For domain with ID 1 \n",
      "        |   -> PCG created 1030  molecules of POPE \n",
      "        |     In the upper monolayer \n",
      "        |     \n",
      "        | -> For domain with ID 1 \n",
      "        |   -> PCG created 0  molecules of POPE \n",
      "        |     In the lower monolayer \n",
      "        |     \n",
      "        |-------------------------------------------------- \n",
      "---> attempting to make the wall beads \n",
      "---> attempting to write the final gro file \n",
      "---> attempting to write the final topology file \n",
      " ██████████████████████████████████████████████████████████████  \n",
      " █████████  Seems everything went well. Well done! ████████████  \n",
      " ██████████████████████████████████████████████████████████████  \n",
      "\n"
     ]
    }
   ],
   "source": [
    "!TS2CG PCG -str input_POPE.str -Bondlength 0.2 -LLIB Martini3.LIB -defout system -dts point_tut4_start"
   ]
  },
  {
   "cell_type": "markdown",
   "id": "af246fbd-7f9d-46bb-ae64-45381b4ae49a",
   "metadata": {},
   "source": [
    "This places POPE lipds accordingly.\n",
    "\n",
    "![Image 3](3.png)\n",
    "\n",
    "With this, we have used the point folder manipulater class in TS2CG to change the inclusions, the exclusions, and the domain composition on the fly and tailored to our needs."
   ]
  }
 ],
 "metadata": {
  "kernelspec": {
   "display_name": "Python 3 (ipykernel)",
   "language": "python",
   "name": "python3"
  },
  "language_info": {
   "codemirror_mode": {
    "name": "ipython",
    "version": 3
   },
   "file_extension": ".py",
   "mimetype": "text/x-python",
   "name": "python",
   "nbconvert_exporter": "python",
   "pygments_lexer": "ipython3",
   "version": "3.8.18"
  }
 },
 "nbformat": 4,
 "nbformat_minor": 5
}
